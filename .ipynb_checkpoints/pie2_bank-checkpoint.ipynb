{
 "cells": [
  {
   "cell_type": "code",
   "execution_count": null,
   "metadata": {},
   "outputs": [],
   "source": [
    "##Python Challenge  "
   ]
  },
  {
   "cell_type": "code",
   "execution_count": 81,
   "metadata": {},
   "outputs": [],
   "source": [
    "import os\n",
    "import sys\n",
    "import csv\n",
    "import datetime\n",
    "import numpy as np"
   ]
  },
  {
   "cell_type": "code",
   "execution_count": 82,
   "metadata": {},
   "outputs": [],
   "source": [
    "csvpath = os.path.join('Resources', 'budget_data.csv')"
   ]
  },
  {
   "cell_type": "markdown",
   "metadata": {},
   "source": [
    "*list of all the data stores that will be compiled for this financil analysis*"
   ]
  },
  {
   "cell_type": "code",
   "execution_count": 85,
   "metadata": {},
   "outputs": [],
   "source": [
    "rows = []\n",
    "rows_mo = []\n",
    "rows_date = []\n",
    "rows_vals = []\n",
    "header = []\n",
    "itr_nums = []\n",
    "jtr_nums = []"
   ]
  },
  {
   "cell_type": "markdown",
   "metadata": {},
   "source": [
    "*Loop thru the CSV data to parse the dates and financial columns and typcast data arrays to conduct financial calculations*"
   ]
  },
  {
   "cell_type": "code",
   "execution_count": 84,
   "metadata": {},
   "outputs": [
    {
     "ename": "NameError",
     "evalue": "name 'row_date' is not defined",
     "output_type": "error",
     "traceback": [
      "\u001b[0;31m---------------------------------------------------------------------------\u001b[0m",
      "\u001b[0;31mNameError\u001b[0m                                 Traceback (most recent call last)",
      "\u001b[0;32m<ipython-input-84-bc1358590e2d>\u001b[0m in \u001b[0;36m<module>\u001b[0;34m\u001b[0m\n\u001b[1;32m      9\u001b[0m     \u001b[0mType\u001b[0m \u001b[0;34m=\u001b[0m \u001b[0mjtr_nums\u001b[0m\u001b[0;34m.\u001b[0m\u001b[0msplit\u001b[0m\u001b[0;34m(\u001b[0m\u001b[0;34m','\u001b[0m\u001b[0;34m)\u001b[0m\u001b[0;34m\u001b[0m\u001b[0;34m\u001b[0m\u001b[0m\n\u001b[1;32m     10\u001b[0m     \u001b[0mrows_mo\u001b[0m\u001b[0;34m.\u001b[0m\u001b[0mappend\u001b[0m\u001b[0;34m(\u001b[0m\u001b[0mjtr_nums\u001b[0m\u001b[0;34m[\u001b[0m\u001b[0;36m0\u001b[0m\u001b[0;34m]\u001b[0m\u001b[0;34m)\u001b[0m\u001b[0;34m\u001b[0m\u001b[0;34m\u001b[0m\u001b[0m\n\u001b[0;32m---> 11\u001b[0;31m     \u001b[0mrow_date\u001b[0m\u001b[0;34m.\u001b[0m\u001b[0mstriptime\u001b[0m\u001b[0;34m(\u001b[0m\u001b[0mrows_mo\u001b[0m\u001b[0;34m,\u001b[0m \u001b[0mformat\u001b[0m\u001b[0;34m)\u001b[0m\u001b[0;34m\u001b[0m\u001b[0;34m\u001b[0m\u001b[0m\n\u001b[0m\u001b[1;32m     12\u001b[0m     \u001b[0;32mfor\u001b[0m \u001b[0mj\u001b[0m \u001b[0;32min\u001b[0m \u001b[0mType\u001b[0m\u001b[0;34m:\u001b[0m\u001b[0;34m\u001b[0m\u001b[0;34m\u001b[0m\u001b[0m\n\u001b[1;32m     13\u001b[0m         \u001b[0mx\u001b[0m \u001b[0;34m=\u001b[0m \u001b[0mint\u001b[0m\u001b[0;34m(\u001b[0m\u001b[0mj\u001b[0m\u001b[0;34m)\u001b[0m\u001b[0;34m\u001b[0m\u001b[0;34m\u001b[0m\u001b[0m\n",
      "\u001b[0;31mNameError\u001b[0m: name 'row_date' is not defined"
     ]
    }
   ],
   "source": [
    "with open(csvpath, newline = '') as csvfile:\n",
    "    linereader = csv.reader(csvfile, delimiter = ',')\n",
    "    header = next(linereader)\n",
    "    for itr_nums in linereader:\n",
    "        rows.append(itr_nums[1])\n",
    "\n",
    "\n",
    "for jtr_nums in rows:\n",
    "    Type = jtr_nums.split(',')\n",
    "    rows_mo.append(jtr_nums[0])\n",
    "    rows_date.striptime(rows_mo, format)\n",
    "    for j in Type:                \n",
    "        x = int(j)\n",
    "        rows_vals.append(x)"
   ]
  },
  {
   "cell_type": "markdown",
   "metadata": {},
   "source": [
    "*Parse throu the arrays using lambda to separate profits and loses figures*"
   ]
  },
  {
   "cell_type": "code",
   "execution_count": 68,
   "metadata": {
    "scrolled": true
   },
   "outputs": [
    {
     "name": "stdout",
     "output_type": "stream",
     "text": [
      "print positve numbers: \n",
      " 36\n",
      "print negative numbers:\n",
      "  222\n",
      "258\n"
     ]
    }
   ],
   "source": [
    "arrP = []\n",
    "arrL = []\n",
    "\n",
    "n_nums = [num for num in (rows_vals) if num < 0]\n",
    "arrL = list(n_nums)\n",
    "\n",
    "p_nums = [num for num in (rows_vals) if num > 0]\n",
    "\n",
    "totals = len(rows_vals)\n",
    "avg_num = len(n_nums)\n",
    "avg_chng = len(p_nums)\n",
    "\n",
    "\n",
    "print(\"print positve numbers: \\n\",  avg_num)\n",
    "print(\"print negative numbers:\\n \",  avg_chng)\n",
    "print(totals)"
   ]
  },
  {
   "cell_type": "code",
   "execution_count": 74,
   "metadata": {},
   "outputs": [
    {
     "name": "stdout",
     "output_type": "stream",
     "text": [
      "1170593\n"
     ]
    }
   ],
   "source": [
    "profit = sum(p_nums)\n",
    "g_max = max(p_nums)\n",
    "\n",
    "print(g_increase)"
   ]
  },
  {
   "cell_type": "code",
   "execution_count": 75,
   "metadata": {},
   "outputs": [
    {
     "name": "stdout",
     "output_type": "stream",
     "text": [
      "60988\n"
     ]
    }
   ],
   "source": [
    "loses = sum(n_nums)\n",
    "g_min = min(p_nums)\n",
    "print(g_decrease)"
   ]
  },
  {
   "cell_type": "code",
   "execution_count": 80,
   "metadata": {},
   "outputs": [
    {
     "name": "stdout",
     "output_type": "stream",
     "text": [
      "['8', '9', '3', '-', '3', '5', '1', '6', '-', '4', '8', '-', '7', '-', '6', '7', '4', '5', '6', '6', '8', '8', '1', '3', '-', '1', '2', '1', '8', '5', '5', '-', '4', '7', '1', '5', '3', '3', '6', '4', '5', '8', '7', '9', '-', '2', '-', '1', '6', '6', '8', '5', '1', '4', '6', '8', '1', '9', '5', '9', '1', '1', '6', '-', '1', '8', '4', '8', '5', '3', '9', '7', '6', '-', '-', '7', '4', '7', '-', '5', '7', '1', '7', '6', '1', '6', '8', '9', '3', '-', '3', '5', '1', '6', '-', '4', '8', '-', '7', '-', '6', '7', '4', '5', '6', '6', '8', '8', '1', '3', '-', '1', '2', '1', '8', '5', '5', '-', '4', '7', '1', '5', '3', '3', '6', '4', '5', '8', '7', '9', '-', '2', '-', '1', '6', '6', '8', '5', '1', '4', '6', '8', '1', '9', '5', '9', '1', '1', '6', '-', '1', '8', '4', '8', '5', '3', '9', '7', '6', '-', '-', '7', '4', '7', '-', '5', '7', '1', '7', '6', '1', '6', '8', '9', '3', '-', '3', '5', '1', '6', '-', '4', '8', '-', '7', '-', '6', '7', '4', '5', '6', '6', '8', '8', '1', '3', '-', '1', '2', '1', '8', '5', '5', '-', '4', '7', '1', '5', '3', '3', '6', '4', '5', '8', '7', '9', '-', '2', '-', '1', '6', '6', '8', '5', '1', '4', '6', '8', '1', '9', '5', '9', '1', '1', '6', '-', '1', '8', '4', '8', '5', '3', '9', '7', '6', '-', '-', '7', '4', '7', '-', '5', '7', '1', '7', '6', '1', '6']\n"
     ]
    }
   ],
   "source": [
    "date_max = [g_max for num in (jtr_nums) if num == g_max] \n",
    "# date_min =\n",
    "print(rows_mo)"
   ]
  },
  {
   "cell_type": "code",
   "execution_count": null,
   "metadata": {},
   "outputs": [],
   "source": []
  }
 ],
 "metadata": {
  "kernelspec": {
   "display_name": "Python 3",
   "language": "python",
   "name": "python3"
  },
  "language_info": {
   "codemirror_mode": {
    "name": "ipython",
    "version": 3
   },
   "file_extension": ".py",
   "mimetype": "text/x-python",
   "name": "python",
   "nbconvert_exporter": "python",
   "pygments_lexer": "ipython3",
   "version": "3.8.2"
  }
 },
 "nbformat": 4,
 "nbformat_minor": 4
}
